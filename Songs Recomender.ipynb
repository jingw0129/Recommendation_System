{
 "cells": [
  {
   "cell_type": "code",
   "execution_count": 1,
   "metadata": {},
   "outputs": [],
   "source": [
    "import pandas as pd"
   ]
  },
  {
   "cell_type": "code",
   "execution_count": 2,
   "metadata": {},
   "outputs": [],
   "source": [
    "def solution(A):\n",
    "    circle_endpoints = []\n",
    "    for i, a in enumerate(A):\n",
    "        circle_endpoints += [(i-a, True), (i+a, False)]\n",
    " \n",
    "    circle_endpoints.sort(key=lambda x: (x[0], not x[1]))\n",
    " \n",
    "    intersections, active_circles = 0, 0\n",
    " \n",
    "    for _, is_beginning in circle_endpoints:\n",
    "        if is_beginning:\n",
    "            intersections += active_circles\n",
    "            active_circles += 1\n",
    "        else:\n",
    "            active_circles -= 1\n",
    "        if intersections > 10E6:\n",
    "            return -1\n",
    " \n",
    "    return intersections"
   ]
  },
  {
   "cell_type": "code",
   "execution_count": 13,
   "metadata": {},
   "outputs": [
    {
     "data": {
      "text/plain": [
       "11"
      ]
     },
     "execution_count": 13,
     "metadata": {},
     "output_type": "execute_result"
    }
   ],
   "source": [
    "A=[1, 5, 2, 1, 4, 0] \n",
    "e = enumerate(A)\n",
    "e\n",
    "s = solution (A)\n",
    "s"
   ]
  },
  {
   "cell_type": "code",
   "execution_count": 2,
   "metadata": {},
   "outputs": [],
   "source": [
    "def solution(A,B):\n",
    "    length_a = len(A)\n",
    "    length_b = len(B)\n",
    "    arr = []\n",
    "    for a in range(length_a):\n",
    "        if B[a]==1 and B[a+1]==0\n",
    "            if A[a]>A[a+1]:\n",
    "                a.pop(A[a+1])\n",
    "            a.pop(A[a])\n",
    "        \n",
    "        if B[a]==0 and B[a+1]==1:\n",
    "            if A[a+1]>A[a+2]:\n",
    "                a.pop(A[a+2])\n",
    "            a.pop(A[a+1])\n",
    "        arr.append(A)   \n",
    "    return arr\n",
    "            "
   ]
  },
  {
   "cell_type": "code",
   "execution_count": 42,
   "metadata": {},
   "outputs": [
    {
     "name": "stdout",
     "output_type": "stream",
     "text": [
      "[0, 3, 4]\n"
     ]
    }
   ],
   "source": [
    "A=[4, 3, 2, 1, 5] \n",
    "B=[0, 1, 0, 0, 0]\n",
    "C=[]\n",
    "\n",
    "length_a = len(A)\n",
    "length_b = len(B)\n",
    "arr = []\n",
    "for a in range(length_a):\n",
    "     C.append(a)\n",
    "for a in range(len(C)-2):\n",
    "    \n",
    "    if B[a]==1 and B[a+1]==0:\n",
    "        if A[a]>A[a+1]:\n",
    "            A.remove(A[a+1])\n",
    "            C.remove(C[a+1])\n",
    "        A.remove(A[a])\n",
    "        C.remove(C[a])\n",
    "\n",
    "    else:\n",
    "        continue\n",
    "\n",
    "print(C)"
   ]
  },
  {
   "cell_type": "code",
   "execution_count": 41,
   "metadata": {},
   "outputs": [
    {
     "data": {
      "text/plain": [
       "[4, 3, 1, 5]"
      ]
     },
     "execution_count": 41,
     "metadata": {},
     "output_type": "execute_result"
    }
   ],
   "source": [
    "A=[4, 3, 2, 1, 5] \n",
    "A.remove(A[2])\n",
    "A"
   ]
  },
  {
   "cell_type": "code",
   "execution_count": 1,
   "metadata": {},
   "outputs": [],
   "source": [
    "import numpy as np"
   ]
  },
  {
   "cell_type": "code",
   "execution_count": 5,
   "metadata": {},
   "outputs": [],
   "source": [
    "import io\n",
    "import re\n",
    "import json\n",
    "import string\n",
    "import codecs\n",
    "import itertools\n",
    "import pandas as pd\n",
    "import csv\n",
    "import numpy as np\n",
    "from itertools import chain\n",
    "from sklearn.feature_extraction.text import CountVectorizer\n",
    "from sklearn.feature_extraction.text import TfidfTransformer\n",
    "from sklearn.feature_extraction.text import TfidfVectorizer\n",
    "from sklearn.decomposition import PCA\n",
    "from sklearn.cluster import KMeans\n",
    "import matplotlib.pyplot as plt\n",
    "import nltk\n",
    "from nltk import text\n",
    "from nltk import NaiveBayesClassifier\n",
    "from nltk import tag\n",
    "from nltk.corpus import stopwords\n",
    "from nltk.tokenize import word_tokenize\n",
    "from sklearn.model_selection import train_test_split\n",
    "from sklearn import datasets, linear_model\n",
    "from collections import Counter\n"
   ]
  },
  {
   "cell_type": "code",
   "execution_count": 6,
   "metadata": {},
   "outputs": [],
   "source": [
    "from sklearn.datasets import load_breast_cancer\n",
    "\n",
    "# Load dataset\n",
    "data = load_breast_cancer()"
   ]
  },
  {
   "cell_type": "code",
   "execution_count": 8,
   "metadata": {},
   "outputs": [],
   "source": [
    "# Load the Diabetes Housing dataset\n",
    "columns ='age sex bmi map tc ldl hdl tch ltg gl'.split() # Declare the columns names\n",
    "diabetes = datasets.load_diabetes() # Call the diabetes dataset from sklearn\n",
    "df = pd.DataFrame(diabetes.data, columns=columns) # load the dataset as a pandas data frame\n",
    "y = diabetes.target # define the target variable (dependent variable) as y"
   ]
  },
  {
   "cell_type": "code",
   "execution_count": 12,
   "metadata": {},
   "outputs": [
    {
     "name": "stdout",
     "output_type": "stream",
     "text": [
      "Top terms per cluster:\n",
      "Cluster 0:\n",
      " google\n",
      " translate\n",
      " app\n",
      " feedback\n",
      " impressed\n",
      " map\n",
      " incredible\n",
      " chrome\n",
      " extension\n",
      " promoter\n",
      "Cluster 1:\n",
      " cat\n",
      " ninja\n",
      " climbing\n",
      " ve\n",
      " photo\n",
      " taken\n",
      " best\n",
      " came\n",
      " belly\n",
      " chrome\n",
      "\n",
      "\n",
      "Prediction\n",
      "[0]\n",
      "[1]\n"
     ]
    }
   ],
   "source": [
    "from sklearn.feature_extraction.text import TfidfVectorizer\n",
    "from sklearn.cluster import KMeans\n",
    "from sklearn.metrics import adjusted_rand_score\n",
    "\n",
    "documents = [\"This little kitty came to play when I was eating at a restaurant.\",\n",
    "             \"Merley has the best squooshy kitten belly.\",\n",
    "             \"Google Translate app is incredible.\",\n",
    "             \"If you open 100 tab in google you get a smiley face.\",\n",
    "             \"Best cat photo I've ever taken.\",\n",
    "             \"Climbing ninja cat.\",\n",
    "             \"Impressed with google map feedback.\",\n",
    "             \"Key promoter extension for Google Chrome.\"]\n",
    "\n",
    "vectorizer = TfidfVectorizer(stop_words='english')\n",
    "X = vectorizer.fit_transform(documents)\n",
    "\n",
    "true_k = 2\n",
    "model = KMeans(n_clusters=true_k, init='k-means++', max_iter=100, n_init=1)\n",
    "model.fit(X)\n",
    "\n",
    "print(\"Top terms per cluster:\")\n",
    "order_centroids = model.cluster_centers_.argsort()[:, ::-1]\n",
    "terms = vectorizer.get_feature_names()\n",
    "for i in range(true_k):\n",
    "    print(\"Cluster %d:\" % i),\n",
    "    for ind in order_centroids[i, :10]:\n",
    "        print(' %s' % terms[ind]),\n",
    "    print\n",
    "\n",
    "print(\"\\n\")\n",
    "print(\"Prediction\")\n",
    "\n",
    "Y = vectorizer.transform([\"chrome browser to open.\"])\n",
    "prediction = model.predict(Y)\n",
    "print(prediction)\n",
    "\n",
    "Y = vectorizer.transform([\"My cat is hungry.\"])\n",
    "prediction = model.predict(Y)\n",
    "print(prediction)"
   ]
  },
  {
   "cell_type": "code",
   "execution_count": 27,
   "metadata": {},
   "outputs": [],
   "source": [
    "def sumup(arr,sum_):\n",
    "    dic_={}\n",
    "    for i in range(len(arr)):\n",
    "        dic_[i]= arr[i]\n",
    "#     print(dic_)\n",
    "    d = []\n",
    "    for k in dic_.keys():\n",
    "        d=sum_ - dic_[k]\n",
    "\n",
    "\n",
    "        if set([d]) & set(arr):\n",
    "            return \"yes\"\n",
    "        return \"no\""
   ]
  },
  {
   "cell_type": "code",
   "execution_count": 33,
   "metadata": {},
   "outputs": [],
   "source": [
    "def target(arr,sum_):\n",
    "    a=set()\n",
    "    for i in range(len(arr)):\n",
    "        a.add(arr[i])\n",
    "    d = []\n",
    "    for k in a:\n",
    "        d=sum_ - k\n",
    "        if set([d]) & set(arr):\n",
    "            return \"yes\"\n",
    "        return \"no\""
   ]
  },
  {
   "cell_type": "code",
   "execution_count": 34,
   "metadata": {},
   "outputs": [
    {
     "data": {
      "text/plain": [
       "'no'"
      ]
     },
     "execution_count": 34,
     "metadata": {},
     "output_type": "execute_result"
    }
   ],
   "source": [
    "arr=[1,4,5,6,2,0]\n",
    "res=[7,4,3,2,6,8]\n",
    "sum_=9\n",
    "target(arr,sum_)"
   ]
  },
  {
   "cell_type": "code",
   "execution_count": 12,
   "metadata": {},
   "outputs": [
    {
     "data": {
      "text/plain": [
       "6"
      ]
     },
     "execution_count": 12,
     "metadata": {},
     "output_type": "execute_result"
    }
   ],
   "source": [
    "arr=[1,4,5,6,2,0]\n",
    "a = set(arr)\n",
    "len(a)"
   ]
  },
  {
   "cell_type": "code",
   "execution_count": 194,
   "metadata": {},
   "outputs": [
    {
     "name": "stdout",
     "output_type": "stream",
     "text": [
      "{1, 2, 4, 5, 6}\n",
      "Pair with the given sum is 0 and 1\n"
     ]
    }
   ],
   "source": [
    "def printPairs(arr, sum_): \n",
    "      \n",
    "    # Create an empty hash set \n",
    "    s = set() \n",
    "    \n",
    "    for i in range(len(arr)): \n",
    "        temp = sum_-arr[i] \n",
    "        \n",
    "        if (temp in s):\n",
    "            print(s)\n",
    "            print (\"Pair with the given sum is\", arr[i], \"and\", temp) \n",
    "            \n",
    "        s.add(arr[i]) \n",
    "        \n",
    "arr=[1,4,5,6,2,0]\n",
    "# res=[7,4,3,2,6,8]\n",
    "sum_=1\n",
    "printPairs(arr,sum_)"
   ]
  },
  {
   "cell_type": "code",
   "execution_count": 46,
   "metadata": {},
   "outputs": [
    {
     "data": {
      "text/plain": [
       "'yes'"
      ]
     },
     "execution_count": 46,
     "metadata": {},
     "output_type": "execute_result"
    }
   ],
   "source": [
    "def printPairs(arr, sum_): \n",
    "      \n",
    "    # Create an empty hash set \n",
    "    s = set() \n",
    "    \n",
    "    for i in range(len(arr)): \n",
    "        temp = sum_-arr[i] \n",
    "        \n",
    "        if (temp in s):\n",
    "            return \"yes\"\n",
    "        s.add(arr[i]) \n",
    "\n",
    "    return \"no\"\n",
    "        \n",
    "arr=[1,4,5,6,2,0]\n",
    "# res=[7,4,3,2,6,8]\n",
    "sum_=10\n",
    "printPairs(arr,sum_)"
   ]
  },
  {
   "cell_type": "code",
   "execution_count": 1,
   "metadata": {},
   "outputs": [
    {
     "data": {
      "text/plain": [
       "'yes'"
      ]
     },
     "execution_count": 1,
     "metadata": {},
     "output_type": "execute_result"
    }
   ],
   "source": [
    "def sub_list(arr,sub_arr):\n",
    "    s=set()\n",
    "     \n",
    "    list2= sorted(sub_arr)\n",
    "    for sa in sub_arr:\n",
    "        for a in arr:\n",
    "            if a ==sa:\n",
    "                s.add(sa)\n",
    "    list_s = list(s)\n",
    "#     return list_s\n",
    "    if list2==list_s:\n",
    "        return \"yes\"\n",
    "\n",
    "    return \"No\"\n",
    "arr1 =[11, 1, 13, 21, 3, 7]\n",
    "arr2= [11, 3,13,] \n",
    "sub_list(arr1,arr2)"
   ]
  },
  {
   "cell_type": "code",
   "execution_count": 26,
   "metadata": {},
   "outputs": [
    {
     "data": {
      "text/plain": [
       "([3, 11, 13], [1, 3, 7, 9, 11, 13, 21])"
      ]
     },
     "execution_count": 26,
     "metadata": {},
     "output_type": "execute_result"
    }
   ],
   "source": [
    "def union(list1,list2):\n",
    "    s=set()  \n",
    "    list2= sorted(list2)\n",
    "    for l1 in list1:\n",
    "        for l2 in list2:\n",
    "            if l1 == l2:\n",
    "                s.add(l1)\n",
    "    union_list = list(set(list1+list2))\n",
    "    return list(s),union_list\n",
    "\n",
    "union(arr1,arr2)    "
   ]
  },
  {
   "cell_type": "code",
   "execution_count": 173,
   "metadata": {},
   "outputs": [
    {
     "data": {
      "text/plain": [
       "[(0, 0), (1, 2), (2, 3), (3, 4), (4, 8), (5, 9)]"
      ]
     },
     "execution_count": 173,
     "metadata": {},
     "output_type": "execute_result"
    }
   ],
   "source": [
    "m={0: 1, 8: 4, 2: 5, 3: 6, 4: 2, 9: 0}\n",
    "list(enumerate(sorted(m)))"
   ]
  },
  {
   "cell_type": "code",
   "execution_count": 174,
   "metadata": {},
   "outputs": [
    {
     "data": {
      "text/plain": [
       "[(0, 0), (1, 8), (2, 2), (3, 3), (4, 4), (5, 9)]"
      ]
     },
     "execution_count": 174,
     "metadata": {},
     "output_type": "execute_result"
    }
   ],
   "source": [
    "n={0: 1, 8: 4, 2: 5, 3: 6, 4: 2, 9: 0}\n",
    "list(enumerate(n))"
   ]
  },
  {
   "cell_type": "code",
   "execution_count": 235,
   "metadata": {},
   "outputs": [],
   "source": [
    "# m is a map \n",
    "# hd is the horizontal distance of current node from root\n",
    "class Node1: \n",
    "    # Constructor to create a new node \n",
    "    def __init__(self, key): \n",
    "        self.key = key \n",
    "        self.left = None\n",
    "        self.right = None\n",
    "def getVirticalOrder(root,hd,m):\n",
    "    if root is None:\n",
    "        return\n",
    "    try:\n",
    "        m[hd].append(root.key)\n",
    "    except:\n",
    "        m[hd] = [root.key]\n",
    "    getVirticalOrder(root.left,hd-1,m)\n",
    "    getVirticalOrder(root.right, hd+1,m)\n",
    "def printVerticalOrder(root):\n",
    "    m = dict()\n",
    "    hd = 0\n",
    "    getVirticalOrder(root,hd,m)\n",
    "    for i,v in enumerate(sorted(m)):\n",
    "        for val in m[v]:\n",
    "            print(i)\n"
   ]
  },
  {
   "cell_type": "code",
   "execution_count": 236,
   "metadata": {},
   "outputs": [
    {
     "name": "stdout",
     "output_type": "stream",
     "text": [
      "0\n",
      "1\n",
      "2\n"
     ]
    }
   ],
   "source": [
    "root = Node1(1)\n",
    "root.left = Node1(2)\n",
    "root.right =Node1(3)\n",
    "printVerticalOrder(root)"
   ]
  },
  {
   "cell_type": "code",
   "execution_count": 179,
   "metadata": {},
   "outputs": [],
   "source": [
    "# dic = {sum: [arr1,arr2]}\n",
    "def sum_pair(arr):\n",
    "    hashTable={}\n",
    "    for i in range(len(arr)-1):\n",
    "        for j in range(1,len(arr)):\n",
    "            add = arr[i]+arr[j]\n",
    "            if add in hashTable.keys():\n",
    "                prev = hashTable.get(add)\n",
    "                print(str(prev) +\"and (%d,%d)\" %(arr[i], arr[j]))\n",
    "#                 return True\n",
    "            else:\n",
    "                hashTable[add]=(arr[i],arr[j])\n",
    "            "
   ]
  },
  {
   "cell_type": "code",
   "execution_count": 180,
   "metadata": {},
   "outputs": [
    {
     "name": "stdout",
     "output_type": "stream",
     "text": [
      "(3, 8)and (4,7)\n",
      "(3, 2)and (4,1)\n",
      "(3, 9)and (4,8)\n",
      "(3, 8)and (7,4)\n",
      "(4, 4)and (7,1)\n",
      "(3, 2)and (1,4)\n",
      "(4, 4)and (1,7)\n",
      "(3, 7)and (1,9)\n",
      "(7, 2)and (1,8)\n",
      "(4, 2)and (2,4)\n",
      "(7, 2)and (2,7)\n",
      "(1, 2)and (2,1)\n",
      "(3, 1)and (2,2)\n",
      "(3, 8)and (2,9)\n",
      "(3, 7)and (2,8)\n",
      "(4, 9)and (9,4)\n",
      "(7, 9)and (9,7)\n",
      "(3, 7)and (9,1)\n",
      "(3, 8)and (9,2)\n"
     ]
    }
   ],
   "source": [
    "sum_pair([3, 4, 7, 1, 2, 9, 8])"
   ]
  },
  {
   "cell_type": "code",
   "execution_count": 109,
   "metadata": {},
   "outputs": [],
   "source": [
    "def sub_aero(arr):\n",
    "    max_len=0\n",
    "    arr1 = []\n",
    "    for i in range(len(arr)):\n",
    "        sum_ = 0\n",
    "        for j in range(i,len(arr)):  \n",
    "            sum_+=arr[j]\n",
    "#             print(j)\n",
    "#             arr1.append(arr[j])\n",
    "            if sum_ == 0:\n",
    "#                 arr1.append(arr[j])\n",
    "                max_len = max(max_len, j-i+1)\n",
    "    return max_len"
   ]
  },
  {
   "cell_type": "code",
   "execution_count": 111,
   "metadata": {},
   "outputs": [
    {
     "data": {
      "text/plain": [
       "0"
      ]
     },
     "execution_count": 111,
     "metadata": {},
     "output_type": "execute_result"
    }
   ],
   "source": [
    "arr=[15,23,-15]\n",
    "sub_aero(arr)"
   ]
  },
  {
   "cell_type": "code",
   "execution_count": 177,
   "metadata": {},
   "outputs": [],
   "source": [
    "import itertools\n",
    "def sum_to_zero(a):\n",
    "    a.sort(reverse = True)\n",
    "    li=[]\n",
    "    for r in range(len(a)):\n",
    "#         print(r)\n",
    "        for triplet in itertools.combinations(a,r):\n",
    "#             print(triplet)\n",
    "            if sum(triplet) == 0:\n",
    "                li.append(list(triplet))\n",
    "    return max(li)\n",
    "                \n",
    "            \n",
    "\n"
   ]
  },
  {
   "cell_type": "code",
   "execution_count": 178,
   "metadata": {},
   "outputs": [
    {
     "data": {
      "text/plain": [
       "[15, 0, -15]"
      ]
     },
     "execution_count": 178,
     "metadata": {},
     "output_type": "execute_result"
    }
   ],
   "source": [
    "arr=[-15,15,23,-15,0]\n",
    "sum_to_zero(arr)"
   ]
  },
  {
   "cell_type": "code",
   "execution_count": 314,
   "metadata": {},
   "outputs": [
    {
     "name": "stdout",
     "output_type": "stream",
     "text": [
      "0 to 6\n"
     ]
    }
   ],
   "source": [
    "def findSubArray1(arr): \n",
    "    sum = 0\n",
    "    maxsize = -1\n",
    "    n = len(arr)\n",
    "    for i in range(0, n-1): \n",
    "        if(arr[i] == 0):\n",
    "            sum == -1\n",
    "        sum==1\n",
    "        for j in range(i + 1, n):\n",
    "            if (arr[j] == 0):\n",
    "                sum = sum + (-1)  \n",
    "            else: sum += 1\n",
    "            if (sum == 0 and maxsize < j-i + 1):   \n",
    "                maxsize = j - i + 1\n",
    "                startindex = i \n",
    "    if (maxsize != -1): \n",
    "        print(startindex, \"to\", startindex + maxsize-1); \n",
    "\n",
    "arr = [1, 0, 0, 1, 0, 1, 1] \n",
    "findSubArray1(arr)"
   ]
  },
  {
   "cell_type": "code",
   "execution_count": 320,
   "metadata": {},
   "outputs": [
    {
     "name": "stdout",
     "output_type": "stream",
     "text": [
      "0 6\n"
     ]
    }
   ],
   "source": [
    "def sum_to_zero(a):\n",
    "    su = 0\n",
    "    max_size = -1\n",
    "    for i in range(len(a)-1):\n",
    "        if a[i]==0:\n",
    "            su == -1\n",
    "        su == 1\n",
    "        for j in range(i+1,len(a)):\n",
    "            if a[j]==0:\n",
    "                su += (-1)\n",
    "# definitly use else below\n",
    "            else: su+=1\n",
    "            if su == 0 and max_size< j-i+1:\n",
    "                max_size = j-i+1\n",
    "                start=i\n",
    "    if max_size!=-1:\n",
    "        print(start,start+max_size-1)          \n",
    "\n",
    "arr = [1, 0, 0, 1, 0, 1, 1] \n",
    "sum_to_zero(arr)"
   ]
  },
  {
   "cell_type": "code",
   "execution_count": 332,
   "metadata": {},
   "outputs": [],
   "source": [
    "def max_dist(arr):\n",
    "    hash_table = {}\n",
    "    dis=0\n",
    "    for i in range(len(arr)):\n",
    "        hash_table[arr[i]]=i\n",
    "        if arr[i] not in hash_table.keys():\n",
    "            hash_table[arr[i]]=i\n",
    "        else:\n",
    "            return max(dis,i-hash_table[arr[i]])\n",
    "    "
   ]
  },
  {
   "cell_type": "code",
   "execution_count": 333,
   "metadata": {},
   "outputs": [
    {
     "data": {
      "text/plain": [
       "0"
      ]
     },
     "execution_count": 333,
     "metadata": {},
     "output_type": "execute_result"
    }
   ],
   "source": [
    "arr= [3, 2, 1, 2, 1, 4, 5, 8, 6, 7, 4, 2]\n",
    "max_dist(arr)"
   ]
  },
  {
   "cell_type": "markdown",
   "metadata": {},
   "source": [
    "\n",
    "# Recommander System"
   ]
  },
  {
   "cell_type": "code",
   "execution_count": 1,
   "metadata": {},
   "outputs": [],
   "source": [
    "triplets_file = 'https://static.turi.com/datasets/millionsong/10000.txt'"
   ]
  },
  {
   "cell_type": "code",
   "execution_count": 2,
   "metadata": {},
   "outputs": [],
   "source": [
    "songs_metadata_file = 'https://static.turi.com/datasets/millionsong/song_data.csv'"
   ]
  },
  {
   "cell_type": "code",
   "execution_count": 3,
   "metadata": {},
   "outputs": [],
   "source": [
    "import urllib.request\n",
    "response = urllib.request.urlretrieve(triplets_file)"
   ]
  },
  {
   "cell_type": "code",
   "execution_count": 5,
   "metadata": {},
   "outputs": [],
   "source": [
    "response1=urllib.request.urlretrieve(songs_metadata_file)"
   ]
  },
  {
   "cell_type": "code",
   "execution_count": 6,
   "metadata": {},
   "outputs": [],
   "source": [
    "import pandas as pd\n",
    "song_df_1 = pd.read_table(triplets_file,header=None)\n",
    "song_df_1.columns = ['user_id', 'song_id', 'listen_count']"
   ]
  },
  {
   "cell_type": "code",
   "execution_count": 7,
   "metadata": {},
   "outputs": [
    {
     "data": {
      "text/html": [
       "<div>\n",
       "<style scoped>\n",
       "    .dataframe tbody tr th:only-of-type {\n",
       "        vertical-align: middle;\n",
       "    }\n",
       "\n",
       "    .dataframe tbody tr th {\n",
       "        vertical-align: top;\n",
       "    }\n",
       "\n",
       "    .dataframe thead th {\n",
       "        text-align: right;\n",
       "    }\n",
       "</style>\n",
       "<table border=\"1\" class=\"dataframe\">\n",
       "  <thead>\n",
       "    <tr style=\"text-align: right;\">\n",
       "      <th></th>\n",
       "      <th>user_id</th>\n",
       "      <th>song_id</th>\n",
       "      <th>listen_count</th>\n",
       "    </tr>\n",
       "  </thead>\n",
       "  <tbody>\n",
       "    <tr>\n",
       "      <th>0</th>\n",
       "      <td>b80344d063b5ccb3212f76538f3d9e43d87dca9e</td>\n",
       "      <td>SOAKIMP12A8C130995</td>\n",
       "      <td>1</td>\n",
       "    </tr>\n",
       "    <tr>\n",
       "      <th>1</th>\n",
       "      <td>b80344d063b5ccb3212f76538f3d9e43d87dca9e</td>\n",
       "      <td>SOBBMDR12A8C13253B</td>\n",
       "      <td>2</td>\n",
       "    </tr>\n",
       "    <tr>\n",
       "      <th>2</th>\n",
       "      <td>b80344d063b5ccb3212f76538f3d9e43d87dca9e</td>\n",
       "      <td>SOBXHDL12A81C204C0</td>\n",
       "      <td>1</td>\n",
       "    </tr>\n",
       "    <tr>\n",
       "      <th>3</th>\n",
       "      <td>b80344d063b5ccb3212f76538f3d9e43d87dca9e</td>\n",
       "      <td>SOBYHAJ12A6701BF1D</td>\n",
       "      <td>1</td>\n",
       "    </tr>\n",
       "    <tr>\n",
       "      <th>4</th>\n",
       "      <td>b80344d063b5ccb3212f76538f3d9e43d87dca9e</td>\n",
       "      <td>SODACBL12A8C13C273</td>\n",
       "      <td>1</td>\n",
       "    </tr>\n",
       "  </tbody>\n",
       "</table>\n",
       "</div>"
      ],
      "text/plain": [
       "                                    user_id             song_id  listen_count\n",
       "0  b80344d063b5ccb3212f76538f3d9e43d87dca9e  SOAKIMP12A8C130995             1\n",
       "1  b80344d063b5ccb3212f76538f3d9e43d87dca9e  SOBBMDR12A8C13253B             2\n",
       "2  b80344d063b5ccb3212f76538f3d9e43d87dca9e  SOBXHDL12A81C204C0             1\n",
       "3  b80344d063b5ccb3212f76538f3d9e43d87dca9e  SOBYHAJ12A6701BF1D             1\n",
       "4  b80344d063b5ccb3212f76538f3d9e43d87dca9e  SODACBL12A8C13C273             1"
      ]
     },
     "execution_count": 7,
     "metadata": {},
     "output_type": "execute_result"
    }
   ],
   "source": [
    "song_df_1.head()"
   ]
  },
  {
   "cell_type": "code",
   "execution_count": 8,
   "metadata": {},
   "outputs": [],
   "source": [
    "song_df_2 =  pd.read_csv(songs_metadata_file)"
   ]
  },
  {
   "cell_type": "code",
   "execution_count": 9,
   "metadata": {},
   "outputs": [],
   "source": [
    "song_df = pd.merge(song_df_1, song_df_2.drop_duplicates(['song_id']), on=\"song_id\", how=\"left\")"
   ]
  },
  {
   "cell_type": "code",
   "execution_count": 10,
   "metadata": {},
   "outputs": [
    {
     "data": {
      "text/html": [
       "<div>\n",
       "<style scoped>\n",
       "    .dataframe tbody tr th:only-of-type {\n",
       "        vertical-align: middle;\n",
       "    }\n",
       "\n",
       "    .dataframe tbody tr th {\n",
       "        vertical-align: top;\n",
       "    }\n",
       "\n",
       "    .dataframe thead th {\n",
       "        text-align: right;\n",
       "    }\n",
       "</style>\n",
       "<table border=\"1\" class=\"dataframe\">\n",
       "  <thead>\n",
       "    <tr style=\"text-align: right;\">\n",
       "      <th></th>\n",
       "      <th>user_id</th>\n",
       "      <th>song_id</th>\n",
       "      <th>listen_count</th>\n",
       "      <th>title</th>\n",
       "      <th>release</th>\n",
       "      <th>artist_name</th>\n",
       "      <th>year</th>\n",
       "    </tr>\n",
       "  </thead>\n",
       "  <tbody>\n",
       "    <tr>\n",
       "      <th>1999995</th>\n",
       "      <td>d8bfd4ec88f0f3773a9e022e3c1a0f1d3b7b6a92</td>\n",
       "      <td>SOJEYPO12AAA8C6B0E</td>\n",
       "      <td>2</td>\n",
       "      <td>Ignorance (Album Version)</td>\n",
       "      <td>Ignorance</td>\n",
       "      <td>Paramore</td>\n",
       "      <td>0</td>\n",
       "    </tr>\n",
       "    <tr>\n",
       "      <th>1999996</th>\n",
       "      <td>d8bfd4ec88f0f3773a9e022e3c1a0f1d3b7b6a92</td>\n",
       "      <td>SOJJYDE12AF729FC16</td>\n",
       "      <td>4</td>\n",
       "      <td>Two Is Better Than One</td>\n",
       "      <td>Love Drunk</td>\n",
       "      <td>Boys Like Girls featuring Taylor Swift</td>\n",
       "      <td>2009</td>\n",
       "    </tr>\n",
       "    <tr>\n",
       "      <th>1999997</th>\n",
       "      <td>d8bfd4ec88f0f3773a9e022e3c1a0f1d3b7b6a92</td>\n",
       "      <td>SOJKQSF12A6D4F5EE9</td>\n",
       "      <td>3</td>\n",
       "      <td>What I've Done (Album Version)</td>\n",
       "      <td>What I've Done</td>\n",
       "      <td>Linkin Park</td>\n",
       "      <td>2007</td>\n",
       "    </tr>\n",
       "    <tr>\n",
       "      <th>1999998</th>\n",
       "      <td>d8bfd4ec88f0f3773a9e022e3c1a0f1d3b7b6a92</td>\n",
       "      <td>SOJUXGA12AC961885C</td>\n",
       "      <td>1</td>\n",
       "      <td>Up</td>\n",
       "      <td>My Worlds</td>\n",
       "      <td>Justin Bieber</td>\n",
       "      <td>2010</td>\n",
       "    </tr>\n",
       "    <tr>\n",
       "      <th>1999999</th>\n",
       "      <td>d8bfd4ec88f0f3773a9e022e3c1a0f1d3b7b6a92</td>\n",
       "      <td>SOJYOLS12A8C13C06F</td>\n",
       "      <td>1</td>\n",
       "      <td>Soil_ Soil (Album Version)</td>\n",
       "      <td>The Con</td>\n",
       "      <td>Tegan And Sara</td>\n",
       "      <td>2007</td>\n",
       "    </tr>\n",
       "  </tbody>\n",
       "</table>\n",
       "</div>"
      ],
      "text/plain": [
       "                                          user_id             song_id  \\\n",
       "1999995  d8bfd4ec88f0f3773a9e022e3c1a0f1d3b7b6a92  SOJEYPO12AAA8C6B0E   \n",
       "1999996  d8bfd4ec88f0f3773a9e022e3c1a0f1d3b7b6a92  SOJJYDE12AF729FC16   \n",
       "1999997  d8bfd4ec88f0f3773a9e022e3c1a0f1d3b7b6a92  SOJKQSF12A6D4F5EE9   \n",
       "1999998  d8bfd4ec88f0f3773a9e022e3c1a0f1d3b7b6a92  SOJUXGA12AC961885C   \n",
       "1999999  d8bfd4ec88f0f3773a9e022e3c1a0f1d3b7b6a92  SOJYOLS12A8C13C06F   \n",
       "\n",
       "         listen_count                           title         release  \\\n",
       "1999995             2       Ignorance (Album Version)       Ignorance   \n",
       "1999996             4          Two Is Better Than One      Love Drunk   \n",
       "1999997             3  What I've Done (Album Version)  What I've Done   \n",
       "1999998             1                              Up       My Worlds   \n",
       "1999999             1      Soil_ Soil (Album Version)         The Con   \n",
       "\n",
       "                                    artist_name  year  \n",
       "1999995                                Paramore     0  \n",
       "1999996  Boys Like Girls featuring Taylor Swift  2009  \n",
       "1999997                             Linkin Park  2007  \n",
       "1999998                           Justin Bieber  2010  \n",
       "1999999                          Tegan And Sara  2007  "
      ]
     },
     "execution_count": 10,
     "metadata": {},
     "output_type": "execute_result"
    }
   ],
   "source": [
    "song_df.tail()"
   ]
  },
  {
   "cell_type": "code",
   "execution_count": 11,
   "metadata": {},
   "outputs": [],
   "source": [
    " song_df['songs']=song_df['title'].map(str)+ \"-\" +song_df['artist_name']"
   ]
  },
  {
   "cell_type": "code",
   "execution_count": 12,
   "metadata": {},
   "outputs": [
    {
     "data": {
      "text/html": [
       "<div>\n",
       "<style scoped>\n",
       "    .dataframe tbody tr th:only-of-type {\n",
       "        vertical-align: middle;\n",
       "    }\n",
       "\n",
       "    .dataframe tbody tr th {\n",
       "        vertical-align: top;\n",
       "    }\n",
       "\n",
       "    .dataframe thead th {\n",
       "        text-align: right;\n",
       "    }\n",
       "</style>\n",
       "<table border=\"1\" class=\"dataframe\">\n",
       "  <thead>\n",
       "    <tr style=\"text-align: right;\">\n",
       "      <th></th>\n",
       "      <th>user_id</th>\n",
       "      <th>song_id</th>\n",
       "      <th>listen_count</th>\n",
       "      <th>title</th>\n",
       "      <th>release</th>\n",
       "      <th>artist_name</th>\n",
       "      <th>year</th>\n",
       "      <th>songs</th>\n",
       "    </tr>\n",
       "  </thead>\n",
       "  <tbody>\n",
       "    <tr>\n",
       "      <th>0</th>\n",
       "      <td>b80344d063b5ccb3212f76538f3d9e43d87dca9e</td>\n",
       "      <td>SOAKIMP12A8C130995</td>\n",
       "      <td>1</td>\n",
       "      <td>The Cove</td>\n",
       "      <td>Thicker Than Water</td>\n",
       "      <td>Jack Johnson</td>\n",
       "      <td>0</td>\n",
       "      <td>The Cove-Jack Johnson</td>\n",
       "    </tr>\n",
       "    <tr>\n",
       "      <th>1</th>\n",
       "      <td>b80344d063b5ccb3212f76538f3d9e43d87dca9e</td>\n",
       "      <td>SOBBMDR12A8C13253B</td>\n",
       "      <td>2</td>\n",
       "      <td>Entre Dos Aguas</td>\n",
       "      <td>Flamenco Para Niños</td>\n",
       "      <td>Paco De Lucia</td>\n",
       "      <td>1976</td>\n",
       "      <td>Entre Dos Aguas-Paco De Lucia</td>\n",
       "    </tr>\n",
       "    <tr>\n",
       "      <th>2</th>\n",
       "      <td>b80344d063b5ccb3212f76538f3d9e43d87dca9e</td>\n",
       "      <td>SOBXHDL12A81C204C0</td>\n",
       "      <td>1</td>\n",
       "      <td>Stronger</td>\n",
       "      <td>Graduation</td>\n",
       "      <td>Kanye West</td>\n",
       "      <td>2007</td>\n",
       "      <td>Stronger-Kanye West</td>\n",
       "    </tr>\n",
       "    <tr>\n",
       "      <th>3</th>\n",
       "      <td>b80344d063b5ccb3212f76538f3d9e43d87dca9e</td>\n",
       "      <td>SOBYHAJ12A6701BF1D</td>\n",
       "      <td>1</td>\n",
       "      <td>Constellations</td>\n",
       "      <td>In Between Dreams</td>\n",
       "      <td>Jack Johnson</td>\n",
       "      <td>2005</td>\n",
       "      <td>Constellations-Jack Johnson</td>\n",
       "    </tr>\n",
       "    <tr>\n",
       "      <th>4</th>\n",
       "      <td>b80344d063b5ccb3212f76538f3d9e43d87dca9e</td>\n",
       "      <td>SODACBL12A8C13C273</td>\n",
       "      <td>1</td>\n",
       "      <td>Learn To Fly</td>\n",
       "      <td>There Is Nothing Left To Lose</td>\n",
       "      <td>Foo Fighters</td>\n",
       "      <td>1999</td>\n",
       "      <td>Learn To Fly-Foo Fighters</td>\n",
       "    </tr>\n",
       "  </tbody>\n",
       "</table>\n",
       "</div>"
      ],
      "text/plain": [
       "                                    user_id             song_id  listen_count  \\\n",
       "0  b80344d063b5ccb3212f76538f3d9e43d87dca9e  SOAKIMP12A8C130995             1   \n",
       "1  b80344d063b5ccb3212f76538f3d9e43d87dca9e  SOBBMDR12A8C13253B             2   \n",
       "2  b80344d063b5ccb3212f76538f3d9e43d87dca9e  SOBXHDL12A81C204C0             1   \n",
       "3  b80344d063b5ccb3212f76538f3d9e43d87dca9e  SOBYHAJ12A6701BF1D             1   \n",
       "4  b80344d063b5ccb3212f76538f3d9e43d87dca9e  SODACBL12A8C13C273             1   \n",
       "\n",
       "             title                        release    artist_name  year  \\\n",
       "0         The Cove             Thicker Than Water   Jack Johnson     0   \n",
       "1  Entre Dos Aguas            Flamenco Para Niños  Paco De Lucia  1976   \n",
       "2         Stronger                     Graduation     Kanye West  2007   \n",
       "3   Constellations              In Between Dreams   Jack Johnson  2005   \n",
       "4     Learn To Fly  There Is Nothing Left To Lose   Foo Fighters  1999   \n",
       "\n",
       "                           songs  \n",
       "0          The Cove-Jack Johnson  \n",
       "1  Entre Dos Aguas-Paco De Lucia  \n",
       "2            Stronger-Kanye West  \n",
       "3    Constellations-Jack Johnson  \n",
       "4      Learn To Fly-Foo Fighters  "
      ]
     },
     "execution_count": 12,
     "metadata": {},
     "output_type": "execute_result"
    }
   ],
   "source": [
    "song_df.head()"
   ]
  },
  {
   "cell_type": "code",
   "execution_count": 13,
   "metadata": {},
   "outputs": [],
   "source": [
    "song_group=song_df.groupby(['songs']).agg({'listen_count':'count'}).reset_index()\n",
    "#agg means aggregate, Aggregate using one or more operations over the specified axis."
   ]
  },
  {
   "cell_type": "code",
   "execution_count": 14,
   "metadata": {},
   "outputs": [
    {
     "data": {
      "text/html": [
       "<div>\n",
       "<style scoped>\n",
       "    .dataframe tbody tr th:only-of-type {\n",
       "        vertical-align: middle;\n",
       "    }\n",
       "\n",
       "    .dataframe tbody tr th {\n",
       "        vertical-align: top;\n",
       "    }\n",
       "\n",
       "    .dataframe thead th {\n",
       "        text-align: right;\n",
       "    }\n",
       "</style>\n",
       "<table border=\"1\" class=\"dataframe\">\n",
       "  <thead>\n",
       "    <tr style=\"text-align: right;\">\n",
       "      <th></th>\n",
       "      <th>songs</th>\n",
       "      <th>listen_count</th>\n",
       "    </tr>\n",
       "  </thead>\n",
       "  <tbody>\n",
       "    <tr>\n",
       "      <th>0</th>\n",
       "      <td>#!*@ You Tonight [Featuring R. Kelly] (Explici...</td>\n",
       "      <td>78</td>\n",
       "    </tr>\n",
       "    <tr>\n",
       "      <th>1</th>\n",
       "      <td>#40-DAVE MATTHEWS BAND</td>\n",
       "      <td>338</td>\n",
       "    </tr>\n",
       "    <tr>\n",
       "      <th>2</th>\n",
       "      <td>&amp; Down-Boys Noize</td>\n",
       "      <td>373</td>\n",
       "    </tr>\n",
       "    <tr>\n",
       "      <th>3</th>\n",
       "      <td>' Cello Song-Nick Drake</td>\n",
       "      <td>103</td>\n",
       "    </tr>\n",
       "    <tr>\n",
       "      <th>4</th>\n",
       "      <td>'97 Bonnie &amp; Clyde-Eminem</td>\n",
       "      <td>93</td>\n",
       "    </tr>\n",
       "  </tbody>\n",
       "</table>\n",
       "</div>"
      ],
      "text/plain": [
       "                                               songs  listen_count\n",
       "0  #!*@ You Tonight [Featuring R. Kelly] (Explici...            78\n",
       "1                             #40-DAVE MATTHEWS BAND           338\n",
       "2                                  & Down-Boys Noize           373\n",
       "3                            ' Cello Song-Nick Drake           103\n",
       "4                          '97 Bonnie & Clyde-Eminem            93"
      ]
     },
     "execution_count": 14,
     "metadata": {},
     "output_type": "execute_result"
    }
   ],
   "source": [
    "song_group.head()"
   ]
  },
  {
   "cell_type": "code",
   "execution_count": 15,
   "metadata": {},
   "outputs": [],
   "source": [
    "group_sum=song_group['listen_count'].sum()"
   ]
  },
  {
   "cell_type": "code",
   "execution_count": 16,
   "metadata": {},
   "outputs": [
    {
     "data": {
      "text/plain": [
       "2000000"
      ]
     },
     "execution_count": 16,
     "metadata": {},
     "output_type": "execute_result"
    }
   ],
   "source": [
    "group_sum"
   ]
  },
  {
   "cell_type": "code",
   "execution_count": 17,
   "metadata": {},
   "outputs": [],
   "source": [
    "song_group['percentage']=song_group['listen_count'].div(group_sum)"
   ]
  },
  {
   "cell_type": "code",
   "execution_count": 18,
   "metadata": {},
   "outputs": [
    {
     "data": {
      "text/html": [
       "<div>\n",
       "<style scoped>\n",
       "    .dataframe tbody tr th:only-of-type {\n",
       "        vertical-align: middle;\n",
       "    }\n",
       "\n",
       "    .dataframe tbody tr th {\n",
       "        vertical-align: top;\n",
       "    }\n",
       "\n",
       "    .dataframe thead th {\n",
       "        text-align: right;\n",
       "    }\n",
       "</style>\n",
       "<table border=\"1\" class=\"dataframe\">\n",
       "  <thead>\n",
       "    <tr style=\"text-align: right;\">\n",
       "      <th></th>\n",
       "      <th>songs</th>\n",
       "      <th>listen_count</th>\n",
       "      <th>percentage</th>\n",
       "    </tr>\n",
       "  </thead>\n",
       "  <tbody>\n",
       "    <tr>\n",
       "      <th>7127</th>\n",
       "      <td>Sehr kosmisch-Harmonia</td>\n",
       "      <td>8277</td>\n",
       "      <td>0.004138</td>\n",
       "    </tr>\n",
       "    <tr>\n",
       "      <th>9084</th>\n",
       "      <td>Undo-Björk</td>\n",
       "      <td>7032</td>\n",
       "      <td>0.003516</td>\n",
       "    </tr>\n",
       "    <tr>\n",
       "      <th>2068</th>\n",
       "      <td>Dog Days Are Over (Radio Edit)-Florence + The ...</td>\n",
       "      <td>6949</td>\n",
       "      <td>0.003475</td>\n",
       "    </tr>\n",
       "    <tr>\n",
       "      <th>9877</th>\n",
       "      <td>You're The One-Dwight Yoakam</td>\n",
       "      <td>6412</td>\n",
       "      <td>0.003206</td>\n",
       "    </tr>\n",
       "    <tr>\n",
       "      <th>6774</th>\n",
       "      <td>Revelry-Kings Of Leon</td>\n",
       "      <td>6145</td>\n",
       "      <td>0.003073</td>\n",
       "    </tr>\n",
       "    <tr>\n",
       "      <th>7115</th>\n",
       "      <td>Secrets-OneRepublic</td>\n",
       "      <td>5841</td>\n",
       "      <td>0.002920</td>\n",
       "    </tr>\n",
       "    <tr>\n",
       "      <th>3613</th>\n",
       "      <td>Horn Concerto No. 4 in E flat K495: II. Romanc...</td>\n",
       "      <td>5385</td>\n",
       "      <td>0.002693</td>\n",
       "    </tr>\n",
       "    <tr>\n",
       "      <th>2717</th>\n",
       "      <td>Fireflies-Charttraxx Karaoke</td>\n",
       "      <td>4795</td>\n",
       "      <td>0.002397</td>\n",
       "    </tr>\n",
       "    <tr>\n",
       "      <th>3485</th>\n",
       "      <td>Hey_ Soul Sister-Train</td>\n",
       "      <td>4758</td>\n",
       "      <td>0.002379</td>\n",
       "    </tr>\n",
       "    <tr>\n",
       "      <th>8847</th>\n",
       "      <td>Tive Sim-Cartola</td>\n",
       "      <td>4548</td>\n",
       "      <td>0.002274</td>\n",
       "    </tr>\n",
       "    <tr>\n",
       "      <th>9140</th>\n",
       "      <td>Use Somebody-Kings Of Leon</td>\n",
       "      <td>3976</td>\n",
       "      <td>0.001988</td>\n",
       "    </tr>\n",
       "    <tr>\n",
       "      <th>5968</th>\n",
       "      <td>OMG-Usher featuring will.i.am</td>\n",
       "      <td>3947</td>\n",
       "      <td>0.001973</td>\n",
       "    </tr>\n",
       "    <tr>\n",
       "      <th>2226</th>\n",
       "      <td>Drop The World-Lil Wayne / Eminem</td>\n",
       "      <td>3879</td>\n",
       "      <td>0.001940</td>\n",
       "    </tr>\n",
       "    <tr>\n",
       "      <th>5223</th>\n",
       "      <td>Marry Me-Train</td>\n",
       "      <td>3578</td>\n",
       "      <td>0.001789</td>\n",
       "    </tr>\n",
       "    <tr>\n",
       "      <th>1337</th>\n",
       "      <td>Canada-Five Iron Frenzy</td>\n",
       "      <td>3526</td>\n",
       "      <td>0.001763</td>\n",
       "    </tr>\n",
       "    <tr>\n",
       "      <th>1390</th>\n",
       "      <td>Catch You Baby (Steve Pitron &amp; Max Sanna Radio...</td>\n",
       "      <td>3511</td>\n",
       "      <td>0.001755</td>\n",
       "    </tr>\n",
       "    <tr>\n",
       "      <th>8535</th>\n",
       "      <td>The Scientist-Coldplay</td>\n",
       "      <td>3372</td>\n",
       "      <td>0.001686</td>\n",
       "    </tr>\n",
       "    <tr>\n",
       "      <th>6574</th>\n",
       "      <td>Pursuit Of Happiness (nightmare)-Kid Cudi / MG...</td>\n",
       "      <td>3218</td>\n",
       "      <td>0.001609</td>\n",
       "    </tr>\n",
       "    <tr>\n",
       "      <th>1530</th>\n",
       "      <td>Clocks-Coldplay</td>\n",
       "      <td>3139</td>\n",
       "      <td>0.001569</td>\n",
       "    </tr>\n",
       "    <tr>\n",
       "      <th>7363</th>\n",
       "      <td>Sincerité Et Jalousie-Alliance Ethnik</td>\n",
       "      <td>3129</td>\n",
       "      <td>0.001564</td>\n",
       "    </tr>\n",
       "    <tr>\n",
       "      <th>910</th>\n",
       "      <td>Billionaire [feat. Bruno Mars]  (Explicit Albu...</td>\n",
       "      <td>3113</td>\n",
       "      <td>0.001556</td>\n",
       "    </tr>\n",
       "    <tr>\n",
       "      <th>6755</th>\n",
       "      <td>Représente-Alliance Ethnik</td>\n",
       "      <td>3080</td>\n",
       "      <td>0.001540</td>\n",
       "    </tr>\n",
       "    <tr>\n",
       "      <th>4429</th>\n",
       "      <td>Just Dance-Lady GaGa / Colby O'Donis</td>\n",
       "      <td>3048</td>\n",
       "      <td>0.001524</td>\n",
       "    </tr>\n",
       "    <tr>\n",
       "      <th>275</th>\n",
       "      <td>Alejandro-Lady GaGa</td>\n",
       "      <td>3032</td>\n",
       "      <td>0.001516</td>\n",
       "    </tr>\n",
       "    <tr>\n",
       "      <th>1220</th>\n",
       "      <td>Bulletproof-La Roux</td>\n",
       "      <td>3009</td>\n",
       "      <td>0.001504</td>\n",
       "    </tr>\n",
       "    <tr>\n",
       "      <th>5079</th>\n",
       "      <td>Lucky (Album Version)-Jason Mraz &amp; Colbie Caillat</td>\n",
       "      <td>2976</td>\n",
       "      <td>0.001488</td>\n",
       "    </tr>\n",
       "    <tr>\n",
       "      <th>4222</th>\n",
       "      <td>Invalid-Tub Ring</td>\n",
       "      <td>2887</td>\n",
       "      <td>0.001443</td>\n",
       "    </tr>\n",
       "    <tr>\n",
       "      <th>250</th>\n",
       "      <td>Ain't Misbehavin-Sam Cooke</td>\n",
       "      <td>2866</td>\n",
       "      <td>0.001433</td>\n",
       "    </tr>\n",
       "    <tr>\n",
       "      <th>1724</th>\n",
       "      <td>Creep (Explicit)-Radiohead</td>\n",
       "      <td>2839</td>\n",
       "      <td>0.001419</td>\n",
       "    </tr>\n",
       "    <tr>\n",
       "      <th>9756</th>\n",
       "      <td>Yellow-Coldplay</td>\n",
       "      <td>2829</td>\n",
       "      <td>0.001414</td>\n",
       "    </tr>\n",
       "    <tr>\n",
       "      <th>...</th>\n",
       "      <td>...</td>\n",
       "      <td>...</td>\n",
       "      <td>...</td>\n",
       "    </tr>\n",
       "    <tr>\n",
       "      <th>6216</th>\n",
       "      <td>Overrated-Three Days Grace</td>\n",
       "      <td>56</td>\n",
       "      <td>0.000028</td>\n",
       "    </tr>\n",
       "    <tr>\n",
       "      <th>6109</th>\n",
       "      <td>One Red Thread-Blind Pilot</td>\n",
       "      <td>56</td>\n",
       "      <td>0.000028</td>\n",
       "    </tr>\n",
       "    <tr>\n",
       "      <th>3997</th>\n",
       "      <td>I'm Ready (Album Version)-Jack's Mannequin</td>\n",
       "      <td>56</td>\n",
       "      <td>0.000028</td>\n",
       "    </tr>\n",
       "    <tr>\n",
       "      <th>2196</th>\n",
       "      <td>Dream Of Mirrors-Iron Maiden</td>\n",
       "      <td>56</td>\n",
       "      <td>0.000028</td>\n",
       "    </tr>\n",
       "    <tr>\n",
       "      <th>1505</th>\n",
       "      <td>City Of The Dead-The Clash</td>\n",
       "      <td>56</td>\n",
       "      <td>0.000028</td>\n",
       "    </tr>\n",
       "    <tr>\n",
       "      <th>106</th>\n",
       "      <td>A Good Heart-Feargal Sharkey</td>\n",
       "      <td>56</td>\n",
       "      <td>0.000028</td>\n",
       "    </tr>\n",
       "    <tr>\n",
       "      <th>9889</th>\n",
       "      <td>Young And Wild-Eric Church</td>\n",
       "      <td>55</td>\n",
       "      <td>0.000028</td>\n",
       "    </tr>\n",
       "    <tr>\n",
       "      <th>3764</th>\n",
       "      <td>I Don't Wanna Walk Around With You  (Remastere...</td>\n",
       "      <td>55</td>\n",
       "      <td>0.000028</td>\n",
       "    </tr>\n",
       "    <tr>\n",
       "      <th>3000</th>\n",
       "      <td>Gimme Tha Power-Molotov</td>\n",
       "      <td>55</td>\n",
       "      <td>0.000028</td>\n",
       "    </tr>\n",
       "    <tr>\n",
       "      <th>1818</th>\n",
       "      <td>Dance Hall-Modest Mouse</td>\n",
       "      <td>55</td>\n",
       "      <td>0.000028</td>\n",
       "    </tr>\n",
       "    <tr>\n",
       "      <th>1758</th>\n",
       "      <td>Crying Like A Church On Monday-New Radicals</td>\n",
       "      <td>55</td>\n",
       "      <td>0.000028</td>\n",
       "    </tr>\n",
       "    <tr>\n",
       "      <th>1531</th>\n",
       "      <td>Clockwork Skinhead-4 Skins</td>\n",
       "      <td>55</td>\n",
       "      <td>0.000028</td>\n",
       "    </tr>\n",
       "    <tr>\n",
       "      <th>8148</th>\n",
       "      <td>Tengo Un Trato-Mala Rodriguez</td>\n",
       "      <td>54</td>\n",
       "      <td>0.000027</td>\n",
       "    </tr>\n",
       "    <tr>\n",
       "      <th>5374</th>\n",
       "      <td>Milonga Del Marinero Y El Capitan-Los Rodriguez</td>\n",
       "      <td>54</td>\n",
       "      <td>0.000027</td>\n",
       "    </tr>\n",
       "    <tr>\n",
       "      <th>5037</th>\n",
       "      <td>Love Train-Wolfmother</td>\n",
       "      <td>54</td>\n",
       "      <td>0.000027</td>\n",
       "    </tr>\n",
       "    <tr>\n",
       "      <th>4507</th>\n",
       "      <td>Kill The King-Megadeth</td>\n",
       "      <td>54</td>\n",
       "      <td>0.000027</td>\n",
       "    </tr>\n",
       "    <tr>\n",
       "      <th>2325</th>\n",
       "      <td>El Justiciero-Shotta</td>\n",
       "      <td>54</td>\n",
       "      <td>0.000027</td>\n",
       "    </tr>\n",
       "    <tr>\n",
       "      <th>93</th>\n",
       "      <td>A Deeper Shade Of Soul-Ray Barretto</td>\n",
       "      <td>54</td>\n",
       "      <td>0.000027</td>\n",
       "    </tr>\n",
       "    <tr>\n",
       "      <th>4920</th>\n",
       "      <td>Lonely Day-System of a Down</td>\n",
       "      <td>53</td>\n",
       "      <td>0.000027</td>\n",
       "    </tr>\n",
       "    <tr>\n",
       "      <th>3282</th>\n",
       "      <td>Happy (Love Theme From \"Lady Sings The Blues\")...</td>\n",
       "      <td>53</td>\n",
       "      <td>0.000027</td>\n",
       "    </tr>\n",
       "    <tr>\n",
       "      <th>8655</th>\n",
       "      <td>The Worm-Audioslave</td>\n",
       "      <td>52</td>\n",
       "      <td>0.000026</td>\n",
       "    </tr>\n",
       "    <tr>\n",
       "      <th>2270</th>\n",
       "      <td>Déjame llorar-Ricardo Montaner</td>\n",
       "      <td>52</td>\n",
       "      <td>0.000026</td>\n",
       "    </tr>\n",
       "    <tr>\n",
       "      <th>887</th>\n",
       "      <td>Big Girls Don't Cry-The Four Seasons</td>\n",
       "      <td>52</td>\n",
       "      <td>0.000026</td>\n",
       "    </tr>\n",
       "    <tr>\n",
       "      <th>58</th>\n",
       "      <td>2nd Self-Umphrey's McGee</td>\n",
       "      <td>52</td>\n",
       "      <td>0.000026</td>\n",
       "    </tr>\n",
       "    <tr>\n",
       "      <th>13</th>\n",
       "      <td>(I Can't Get Me No) Satisfaction-Devo</td>\n",
       "      <td>52</td>\n",
       "      <td>0.000026</td>\n",
       "    </tr>\n",
       "    <tr>\n",
       "      <th>7072</th>\n",
       "      <td>Scared-Three Days Grace</td>\n",
       "      <td>51</td>\n",
       "      <td>0.000025</td>\n",
       "    </tr>\n",
       "    <tr>\n",
       "      <th>3526</th>\n",
       "      <td>Historia Del Portero-Ricardo Arjona</td>\n",
       "      <td>51</td>\n",
       "      <td>0.000025</td>\n",
       "    </tr>\n",
       "    <tr>\n",
       "      <th>2147</th>\n",
       "      <td>Don´t Leave Me Now-Amparanoia</td>\n",
       "      <td>50</td>\n",
       "      <td>0.000025</td>\n",
       "    </tr>\n",
       "    <tr>\n",
       "      <th>5811</th>\n",
       "      <td>No Creo En El Jamas-Juanes</td>\n",
       "      <td>48</td>\n",
       "      <td>0.000024</td>\n",
       "    </tr>\n",
       "    <tr>\n",
       "      <th>2991</th>\n",
       "      <td>Ghosts (Toxic Avenger Mix)-Ladytron</td>\n",
       "      <td>48</td>\n",
       "      <td>0.000024</td>\n",
       "    </tr>\n",
       "  </tbody>\n",
       "</table>\n",
       "<p>9953 rows × 3 columns</p>\n",
       "</div>"
      ],
      "text/plain": [
       "                                                  songs  listen_count  \\\n",
       "7127                             Sehr kosmisch-Harmonia          8277   \n",
       "9084                                         Undo-Björk          7032   \n",
       "2068  Dog Days Are Over (Radio Edit)-Florence + The ...          6949   \n",
       "9877                       You're The One-Dwight Yoakam          6412   \n",
       "6774                              Revelry-Kings Of Leon          6145   \n",
       "7115                                Secrets-OneRepublic          5841   \n",
       "3613  Horn Concerto No. 4 in E flat K495: II. Romanc...          5385   \n",
       "2717                       Fireflies-Charttraxx Karaoke          4795   \n",
       "3485                             Hey_ Soul Sister-Train          4758   \n",
       "8847                                   Tive Sim-Cartola          4548   \n",
       "9140                         Use Somebody-Kings Of Leon          3976   \n",
       "5968                      OMG-Usher featuring will.i.am          3947   \n",
       "2226                  Drop The World-Lil Wayne / Eminem          3879   \n",
       "5223                                     Marry Me-Train          3578   \n",
       "1337                            Canada-Five Iron Frenzy          3526   \n",
       "1390  Catch You Baby (Steve Pitron & Max Sanna Radio...          3511   \n",
       "8535                             The Scientist-Coldplay          3372   \n",
       "6574  Pursuit Of Happiness (nightmare)-Kid Cudi / MG...          3218   \n",
       "1530                                    Clocks-Coldplay          3139   \n",
       "7363              Sincerité Et Jalousie-Alliance Ethnik          3129   \n",
       "910   Billionaire [feat. Bruno Mars]  (Explicit Albu...          3113   \n",
       "6755                         Représente-Alliance Ethnik          3080   \n",
       "4429               Just Dance-Lady GaGa / Colby O'Donis          3048   \n",
       "275                                 Alejandro-Lady GaGa          3032   \n",
       "1220                                Bulletproof-La Roux          3009   \n",
       "5079  Lucky (Album Version)-Jason Mraz & Colbie Caillat          2976   \n",
       "4222                                   Invalid-Tub Ring          2887   \n",
       "250                          Ain't Misbehavin-Sam Cooke          2866   \n",
       "1724                         Creep (Explicit)-Radiohead          2839   \n",
       "9756                                    Yellow-Coldplay          2829   \n",
       "...                                                 ...           ...   \n",
       "6216                         Overrated-Three Days Grace            56   \n",
       "6109                         One Red Thread-Blind Pilot            56   \n",
       "3997         I'm Ready (Album Version)-Jack's Mannequin            56   \n",
       "2196                       Dream Of Mirrors-Iron Maiden            56   \n",
       "1505                         City Of The Dead-The Clash            56   \n",
       "106                        A Good Heart-Feargal Sharkey            56   \n",
       "9889                         Young And Wild-Eric Church            55   \n",
       "3764  I Don't Wanna Walk Around With You  (Remastere...            55   \n",
       "3000                            Gimme Tha Power-Molotov            55   \n",
       "1818                            Dance Hall-Modest Mouse            55   \n",
       "1758        Crying Like A Church On Monday-New Radicals            55   \n",
       "1531                         Clockwork Skinhead-4 Skins            55   \n",
       "8148                      Tengo Un Trato-Mala Rodriguez            54   \n",
       "5374    Milonga Del Marinero Y El Capitan-Los Rodriguez            54   \n",
       "5037                              Love Train-Wolfmother            54   \n",
       "4507                             Kill The King-Megadeth            54   \n",
       "2325                               El Justiciero-Shotta            54   \n",
       "93                  A Deeper Shade Of Soul-Ray Barretto            54   \n",
       "4920                        Lonely Day-System of a Down            53   \n",
       "3282  Happy (Love Theme From \"Lady Sings The Blues\")...            53   \n",
       "8655                                The Worm-Audioslave            52   \n",
       "2270                     Déjame llorar-Ricardo Montaner            52   \n",
       "887                Big Girls Don't Cry-The Four Seasons            52   \n",
       "58                             2nd Self-Umphrey's McGee            52   \n",
       "13                (I Can't Get Me No) Satisfaction-Devo            52   \n",
       "7072                            Scared-Three Days Grace            51   \n",
       "3526                Historia Del Portero-Ricardo Arjona            51   \n",
       "2147                      Don´t Leave Me Now-Amparanoia            50   \n",
       "5811                         No Creo En El Jamas-Juanes            48   \n",
       "2991                Ghosts (Toxic Avenger Mix)-Ladytron            48   \n",
       "\n",
       "      percentage  \n",
       "7127    0.004138  \n",
       "9084    0.003516  \n",
       "2068    0.003475  \n",
       "9877    0.003206  \n",
       "6774    0.003073  \n",
       "7115    0.002920  \n",
       "3613    0.002693  \n",
       "2717    0.002397  \n",
       "3485    0.002379  \n",
       "8847    0.002274  \n",
       "9140    0.001988  \n",
       "5968    0.001973  \n",
       "2226    0.001940  \n",
       "5223    0.001789  \n",
       "1337    0.001763  \n",
       "1390    0.001755  \n",
       "8535    0.001686  \n",
       "6574    0.001609  \n",
       "1530    0.001569  \n",
       "7363    0.001564  \n",
       "910     0.001556  \n",
       "6755    0.001540  \n",
       "4429    0.001524  \n",
       "275     0.001516  \n",
       "1220    0.001504  \n",
       "5079    0.001488  \n",
       "4222    0.001443  \n",
       "250     0.001433  \n",
       "1724    0.001419  \n",
       "9756    0.001414  \n",
       "...          ...  \n",
       "6216    0.000028  \n",
       "6109    0.000028  \n",
       "3997    0.000028  \n",
       "2196    0.000028  \n",
       "1505    0.000028  \n",
       "106     0.000028  \n",
       "9889    0.000028  \n",
       "3764    0.000028  \n",
       "3000    0.000028  \n",
       "1818    0.000028  \n",
       "1758    0.000028  \n",
       "1531    0.000028  \n",
       "8148    0.000027  \n",
       "5374    0.000027  \n",
       "5037    0.000027  \n",
       "4507    0.000027  \n",
       "2325    0.000027  \n",
       "93      0.000027  \n",
       "4920    0.000027  \n",
       "3282    0.000027  \n",
       "8655    0.000026  \n",
       "2270    0.000026  \n",
       "887     0.000026  \n",
       "58      0.000026  \n",
       "13      0.000026  \n",
       "7072    0.000025  \n",
       "3526    0.000025  \n",
       "2147    0.000025  \n",
       "5811    0.000024  \n",
       "2991    0.000024  \n",
       "\n",
       "[9953 rows x 3 columns]"
      ]
     },
     "execution_count": 18,
     "metadata": {},
     "output_type": "execute_result"
    }
   ],
   "source": [
    "songs_sorted = song_group.sort_values(['listen_count','songs'],ascending=False)\n",
    "#ascending : goes up\n",
    "songs_sorted"
   ]
  },
  {
   "cell_type": "code",
   "execution_count": 19,
   "metadata": {},
   "outputs": [
    {
     "data": {
      "text/plain": [
       "'bd4c6e843f00bd476847fb75c47b4fb430a06856'"
      ]
     },
     "execution_count": 19,
     "metadata": {},
     "output_type": "execute_result"
    }
   ],
   "source": [
    "users = song_df['user_id'].unique()\n",
    "users[2]"
   ]
  },
  {
   "cell_type": "code",
   "execution_count": 20,
   "metadata": {},
   "outputs": [
    {
     "data": {
      "text/plain": [
       "76353"
      ]
     },
     "execution_count": 20,
     "metadata": {},
     "output_type": "execute_result"
    }
   ],
   "source": [
    "len(users)"
   ]
  },
  {
   "cell_type": "code",
   "execution_count": 21,
   "metadata": {},
   "outputs": [
    {
     "data": {
      "text/plain": [
       "9953"
      ]
     },
     "execution_count": 21,
     "metadata": {},
     "output_type": "execute_result"
    }
   ],
   "source": [
    "songs = song_df['songs'].unique()\n",
    "len(songs)"
   ]
  },
  {
   "cell_type": "code",
   "execution_count": 22,
   "metadata": {},
   "outputs": [
    {
     "name": "stderr",
     "output_type": "stream",
     "text": [
      "C:\\Users\\Aimee\\Anaconda3\\lib\\site-packages\\sklearn\\cross_validation.py:41: DeprecationWarning: This module was deprecated in version 0.18 in favor of the model_selection module into which all the refactored classes and functions are moved. Also note that the interface of the new CV iterators are different from that of this module. This module will be removed in 0.20.\n",
      "  \"This module will be removed in 0.20.\", DeprecationWarning)\n"
     ]
    }
   ],
   "source": [
    "from sklearn.cross_validation import train_test_split\n",
    "train_data, test_data=train_test_split(song_df, test_size = 0.20,random_state = 0)"
   ]
  },
  {
   "cell_type": "code",
   "execution_count": 23,
   "metadata": {},
   "outputs": [],
   "source": [
    "import Recommenders as Recommenders"
   ]
  },
  {
   "cell_type": "code",
   "execution_count": 24,
   "metadata": {},
   "outputs": [],
   "source": [
    "pm = Recommenders.popularity_recommender_py()\n",
    "pm.create(train_data,'user_id','songs')"
   ]
  },
  {
   "cell_type": "code",
   "execution_count": 25,
   "metadata": {},
   "outputs": [
    {
     "data": {
      "text/plain": [
       "'4bd88bfb25263a75bbdd467e74018f4ae570e5df'"
      ]
     },
     "execution_count": 25,
     "metadata": {},
     "output_type": "execute_result"
    }
   ],
   "source": [
    "user_id = users[5]\n",
    "user_id"
   ]
  },
  {
   "cell_type": "markdown",
   "metadata": {},
   "source": [
    "### Recommend songs to a specific user"
   ]
  },
  {
   "cell_type": "code",
   "execution_count": 26,
   "metadata": {},
   "outputs": [
    {
     "data": {
      "text/html": [
       "<div>\n",
       "<style scoped>\n",
       "    .dataframe tbody tr th:only-of-type {\n",
       "        vertical-align: middle;\n",
       "    }\n",
       "\n",
       "    .dataframe tbody tr th {\n",
       "        vertical-align: top;\n",
       "    }\n",
       "\n",
       "    .dataframe thead th {\n",
       "        text-align: right;\n",
       "    }\n",
       "</style>\n",
       "<table border=\"1\" class=\"dataframe\">\n",
       "  <thead>\n",
       "    <tr style=\"text-align: right;\">\n",
       "      <th></th>\n",
       "      <th>user_id</th>\n",
       "      <th>songs</th>\n",
       "      <th>score</th>\n",
       "      <th>Rank</th>\n",
       "    </tr>\n",
       "  </thead>\n",
       "  <tbody>\n",
       "    <tr>\n",
       "      <th>7127</th>\n",
       "      <td>4bd88bfb25263a75bbdd467e74018f4ae570e5df</td>\n",
       "      <td>Sehr kosmisch-Harmonia</td>\n",
       "      <td>6630</td>\n",
       "      <td>1.0</td>\n",
       "    </tr>\n",
       "    <tr>\n",
       "      <th>9084</th>\n",
       "      <td>4bd88bfb25263a75bbdd467e74018f4ae570e5df</td>\n",
       "      <td>Undo-Björk</td>\n",
       "      <td>5639</td>\n",
       "      <td>2.0</td>\n",
       "    </tr>\n",
       "    <tr>\n",
       "      <th>2068</th>\n",
       "      <td>4bd88bfb25263a75bbdd467e74018f4ae570e5df</td>\n",
       "      <td>Dog Days Are Over (Radio Edit)-Florence + The ...</td>\n",
       "      <td>5592</td>\n",
       "      <td>3.0</td>\n",
       "    </tr>\n",
       "    <tr>\n",
       "      <th>9877</th>\n",
       "      <td>4bd88bfb25263a75bbdd467e74018f4ae570e5df</td>\n",
       "      <td>You're The One-Dwight Yoakam</td>\n",
       "      <td>5143</td>\n",
       "      <td>4.0</td>\n",
       "    </tr>\n",
       "    <tr>\n",
       "      <th>6774</th>\n",
       "      <td>4bd88bfb25263a75bbdd467e74018f4ae570e5df</td>\n",
       "      <td>Revelry-Kings Of Leon</td>\n",
       "      <td>4938</td>\n",
       "      <td>5.0</td>\n",
       "    </tr>\n",
       "    <tr>\n",
       "      <th>7115</th>\n",
       "      <td>4bd88bfb25263a75bbdd467e74018f4ae570e5df</td>\n",
       "      <td>Secrets-OneRepublic</td>\n",
       "      <td>4627</td>\n",
       "      <td>6.0</td>\n",
       "    </tr>\n",
       "    <tr>\n",
       "      <th>3613</th>\n",
       "      <td>4bd88bfb25263a75bbdd467e74018f4ae570e5df</td>\n",
       "      <td>Horn Concerto No. 4 in E flat K495: II. Romanc...</td>\n",
       "      <td>4368</td>\n",
       "      <td>7.0</td>\n",
       "    </tr>\n",
       "    <tr>\n",
       "      <th>2717</th>\n",
       "      <td>4bd88bfb25263a75bbdd467e74018f4ae570e5df</td>\n",
       "      <td>Fireflies-Charttraxx Karaoke</td>\n",
       "      <td>3835</td>\n",
       "      <td>8.0</td>\n",
       "    </tr>\n",
       "    <tr>\n",
       "      <th>3485</th>\n",
       "      <td>4bd88bfb25263a75bbdd467e74018f4ae570e5df</td>\n",
       "      <td>Hey_ Soul Sister-Train</td>\n",
       "      <td>3819</td>\n",
       "      <td>9.0</td>\n",
       "    </tr>\n",
       "    <tr>\n",
       "      <th>8847</th>\n",
       "      <td>4bd88bfb25263a75bbdd467e74018f4ae570e5df</td>\n",
       "      <td>Tive Sim-Cartola</td>\n",
       "      <td>3707</td>\n",
       "      <td>10.0</td>\n",
       "    </tr>\n",
       "  </tbody>\n",
       "</table>\n",
       "</div>"
      ],
      "text/plain": [
       "                                       user_id  \\\n",
       "7127  4bd88bfb25263a75bbdd467e74018f4ae570e5df   \n",
       "9084  4bd88bfb25263a75bbdd467e74018f4ae570e5df   \n",
       "2068  4bd88bfb25263a75bbdd467e74018f4ae570e5df   \n",
       "9877  4bd88bfb25263a75bbdd467e74018f4ae570e5df   \n",
       "6774  4bd88bfb25263a75bbdd467e74018f4ae570e5df   \n",
       "7115  4bd88bfb25263a75bbdd467e74018f4ae570e5df   \n",
       "3613  4bd88bfb25263a75bbdd467e74018f4ae570e5df   \n",
       "2717  4bd88bfb25263a75bbdd467e74018f4ae570e5df   \n",
       "3485  4bd88bfb25263a75bbdd467e74018f4ae570e5df   \n",
       "8847  4bd88bfb25263a75bbdd467e74018f4ae570e5df   \n",
       "\n",
       "                                                  songs  score  Rank  \n",
       "7127                             Sehr kosmisch-Harmonia   6630   1.0  \n",
       "9084                                         Undo-Björk   5639   2.0  \n",
       "2068  Dog Days Are Over (Radio Edit)-Florence + The ...   5592   3.0  \n",
       "9877                       You're The One-Dwight Yoakam   5143   4.0  \n",
       "6774                              Revelry-Kings Of Leon   4938   5.0  \n",
       "7115                                Secrets-OneRepublic   4627   6.0  \n",
       "3613  Horn Concerto No. 4 in E flat K495: II. Romanc...   4368   7.0  \n",
       "2717                       Fireflies-Charttraxx Karaoke   3835   8.0  \n",
       "3485                             Hey_ Soul Sister-Train   3819   9.0  \n",
       "8847                                   Tive Sim-Cartola   3707  10.0  "
      ]
     },
     "execution_count": 26,
     "metadata": {},
     "output_type": "execute_result"
    }
   ],
   "source": [
    "pm.recommend(user_id)"
   ]
  },
  {
   "cell_type": "code",
   "execution_count": 27,
   "metadata": {},
   "outputs": [],
   "source": [
    "is_model=Recommenders.item_similarity_recommender_py()\n",
    "is_model.create(train_data,'user_id','songs')"
   ]
  },
  {
   "cell_type": "code",
   "execution_count": 28,
   "metadata": {},
   "outputs": [
    {
     "name": "stdout",
     "output_type": "stream",
     "text": [
      "training data for user whose id is 8937134734f869debcab8f23d77465b4caaa85df:\n",
      "The Way Things Go-Octopus Project\n",
      "Streets On Lock-Young Jeezy\n"
     ]
    }
   ],
   "source": [
    "user_id=users[3]\n",
    "user_items = is_model.get_user_items(user_id)\n",
    "print(\"training data for user whose id is %s:\" % user_id)\n",
    "for i in user_items:\n",
    "    print(i)"
   ]
  },
  {
   "cell_type": "code",
   "execution_count": 29,
   "metadata": {},
   "outputs": [],
   "source": [
    "# is_model.recommend(user_id)"
   ]
  },
  {
   "cell_type": "code",
   "execution_count": 30,
   "metadata": {},
   "outputs": [
    {
     "data": {
      "text/plain": [
       "['The Way Things Go-Octopus Project', 'Streets On Lock-Young Jeezy']"
      ]
     },
     "execution_count": 30,
     "metadata": {},
     "output_type": "execute_result"
    }
   ],
   "source": [
    "user_items"
   ]
  },
  {
   "cell_type": "code",
   "execution_count": 31,
   "metadata": {},
   "outputs": [],
   "source": [
    "# is_model.get_similar_items('Streets On Lock-Young Jeezy')"
   ]
  },
  {
   "cell_type": "code",
   "execution_count": 32,
   "metadata": {},
   "outputs": [],
   "source": [
    "from sklearn.externals import joblib\n",
    "pm_avg_precision_list = joblib.load('pm_avg_precision_list_3.pkl')"
   ]
  },
  {
   "cell_type": "code",
   "execution_count": 33,
   "metadata": {},
   "outputs": [
    {
     "data": {
      "text/plain": [
       "[0.0, 0.0, 0.0, 0.0, 0.0, 0.0, 0.0, 0.0, 0.0, 0.0058823529411764705]"
      ]
     },
     "execution_count": 33,
     "metadata": {},
     "output_type": "execute_result"
    }
   ],
   "source": [
    "pm_avg_precision_list"
   ]
  },
  {
   "cell_type": "markdown",
   "metadata": {},
   "source": [
    "### Using SVD for recommender"
   ]
  },
  {
   "cell_type": "markdown",
   "metadata": {},
   "source": [
    "SVD and Image compression\n",
    "Now we will explore how to apply Singular Value Decomposition of a matrix to the problem of image compression. \n",
    "SVD decomposes a rectangular matrix M to a three parts.\n",
    "\n",
    "U — matrix of left singular vectors in the columns\n",
    "Σ — diagonal matrix with singular values\n",
    "V — matrix of right singular vectors in the columns\n",
    "We use numpy array slicing to select k singular vectors and values.\n",
    "Instead of storing m×n values for the original image, we can now store k(m+n)+k values."
   ]
  },
  {
   "cell_type": "code",
   "execution_count": 132,
   "metadata": {},
   "outputs": [],
   "source": [
    "import math as mt\n",
    "import csv\n",
    "import scipy.sparse\n",
    "from scipy import linalg\n",
    "import numpy as np\n",
    "from scipy.sparse import csc_matrix\n",
    "from sparsesvd import sparsesvd"
   ]
  },
  {
   "cell_type": "code",
   "execution_count": 133,
   "metadata": {},
   "outputs": [],
   "source": [
    "def computeSVD(urm, K):\n",
    "    U, s, Vt = sparsesvd(urm, K)\n",
    "    dim = (len(s), len(s))\n",
    "    S = np.zeros(dim, dtype=np.float32)\n",
    "    for i in range(0, len(s)):\n",
    "        S[i,i] = mt.sqrt(s[i])\n",
    "    U = csc_matrix(np.transpose(U), dtype=np.float32)\n",
    "    S = csc_matrix(S, dtype=np.float32)\n",
    "    Vt = csc_matrix(Vt, dtype=np.float32)\n",
    "    \n",
    "    return U, S, Vt"
   ]
  },
  {
   "cell_type": "code",
   "execution_count": 134,
   "metadata": {},
   "outputs": [],
   "source": [
    "k=2\n",
    "urm1 = np.array([[3, 1, 2, 3],[4, 3, 4, 3],[3, 2, 1, 5], [1, 6, 5, 2], [5, 0, 0 , 0]])\n",
    "urm1 = csc_matrix(urm1, dtype=np.float32)\n",
    "\n",
    "#Compute SVD of the input user ratings matrix\n",
    "U, S, Vt = computeSVD(urm1, k)"
   ]
  },
  {
   "cell_type": "code",
   "execution_count": 135,
   "metadata": {},
   "outputs": [],
   "source": [
    "def computeEstimatedRatings(urm, U, S, Vt, uTest, K, test):\n",
    "    rightTerm = S*Vt \n",
    "\n",
    "    estimatedRatings = np.zeros(shape=(MAX_UID, MAX_PID), dtype=np.float16)\n",
    "    for userTest in uTest:\n",
    "        prod = U[userTest, :]*rightTerm\n",
    "        #we convert the vector to dense format in order to get the indices \n",
    "        #of the movies with the best estimated ratings \n",
    "        estimatedRatings[userTest, :] = prod.todense()\n",
    "        recom = (-estimatedRatings[userTest, :]).argsort()[:250]\n",
    "    return recom"
   ]
  },
  {
   "cell_type": "code",
   "execution_count": 136,
   "metadata": {},
   "outputs": [
    {
     "name": "stdout",
     "output_type": "stream",
     "text": [
      "User id for: 4 :recommendations are needed\n",
      "Predictied ratings:\n",
      "[0 3 2 1]\n"
     ]
    }
   ],
   "source": [
    "MAX_PID = 4\n",
    "MAX_UID = 5\n",
    "\n",
    "uTest=[4]\n",
    "print(\"User id for: %d :recommendations are needed\" %uTest[0])\n",
    "print(\"Predictied ratings:\")\n",
    "uTest_recommended_items = computeEstimatedRatings(urm, U, S, Vt, uTest, k, True)\n",
    "print(uTest_recommended_items)"
   ]
  },
  {
   "cell_type": "code",
   "execution_count": 137,
   "metadata": {},
   "outputs": [
    {
     "name": "stdout",
     "output_type": "stream",
     "text": [
      "Matrix Dimensions for U\n",
      "(5, 2)\n"
     ]
    },
    {
     "data": {
      "text/plain": [
       "[]"
      ]
     },
     "execution_count": 137,
     "metadata": {},
     "output_type": "execute_result"
    },
    {
     "data": {
      "image/png": "[encoded data removed]",
      "text/plain": [
       "<Figure size 432x288 with 1 Axes>"
      ]
     },
     "metadata": {},
     "output_type": "display_data"
    }
   ],
   "source": [
    "from pylab import *\n",
    "\n",
    "#Plot all the users\n",
    "print(\"Matrix Dimensions for U\")\n",
    "print(U.shape)\n",
    "\n",
    "for i in range(0, U.shape[0]):\n",
    "    plot(U[i,0], U[i,1], marker = \"*\", label=\"user\"+str(i))\n",
    "\n",
    "for j in range(0, Vt.T.shape[0]):\n",
    "    plot(Vt.T[j,0], Vt.T[j,1], marker = 'd', label=\"item\"+str(j))    \n",
    "    \n",
    "legend(loc=\"upper right\")\n",
    "title('User vectors in the Latent semantic space')\n",
    "ylim([-0.7, 0.7])\n",
    "xlim([-0.7, 0])\n",
    "plot()"
   ]
  },
  {
   "cell_type": "code",
   "execution_count": null,
   "metadata": {},
   "outputs": [],
   "source": []
  },
  {
   "cell_type": "code",
   "execution_count": null,
   "metadata": {},
   "outputs": [],
   "source": []
  }
 ],
 "metadata": {
  "kernelspec": {
   "display_name": "Python 3",
   "language": "python",
   "name": "python3"
  },
  "language_info": {
   "codemirror_mode": {
    "name": "ipython",
    "version": 3
   },
   "file_extension": ".py",
   "mimetype": "text/x-python",
   "name": "python",
   "nbconvert_exporter": "python",
   "pygments_lexer": "ipython3",
   "version": "3.6.5"
  }
 },
 "nbformat": 4,
 "nbformat_minor": 2
}
